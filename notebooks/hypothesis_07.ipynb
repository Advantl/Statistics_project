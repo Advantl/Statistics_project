{
 "cells": [
  {
   "cell_type": "markdown",
   "id": "329244bb-2026-4055-b759-964d0d89e5ff",
   "metadata": {},
   "source": [
    "# №7 Тип закупки (обычная vs интернет-заказ)"
   ]
  },
  {
   "cell_type": "markdown",
   "id": "c88a098b-09a8-4e69-ad48-fd986cb81627",
   "metadata": {},
   "source": [
    "**Формулировка гипотезы**  \n",
    "\n",
    "H₀: Средний чек одинаков для обычных покупок (в аптеке) и интернет-заказов.   \n",
    "H₁: Средний чек статистически различается между типами закупки."
   ]
  },
  {
   "cell_type": "markdown",
   "id": "bca38972-1799-4d9f-be68-3cae6664f694",
   "metadata": {},
   "source": [
    "**Тесты**\n",
    "- Welch t-test (на логарифмически преобразованных данных)\n",
    "    - Размер эффекта Cohen's d\n",
    "- Mann–Whitney U test \n",
    "    - Размер эффекта Cliff’s Delta "
   ]
  },
  {
   "cell_type": "markdown",
   "id": "cd321e3e-c7b2-4fe0-b6c0-760785356656",
   "metadata": {},
   "source": [
    "### Загрузка данных"
   ]
  },
  {
   "cell_type": "code",
   "execution_count": null,
   "id": "89d3c51a-ca37-4136-aeed-677d707e08a3",
   "metadata": {},
   "outputs": [],
   "source": [
    "import pandas as pd\n",
    "import seaborn as sns\n",
    "import numpy as np\n",
    "import matplotlib.pyplot as plt\n",
    "import sqlalchemy\n",
    "import configparser\n",
    "from scipy import stats\n",
    "from scipy.stats import skew, kurtosis\n",
    " # Импортируем класс из файла db_connection.py\n",
    "from db_connection import PostgresConnection\n",
    "# Импортируем класс из файла data_cleaner.py\n",
    "from data_cleaner import DataCleaner"
   ]
  },
  {
   "cell_type": "code",
   "execution_count": null,
   "id": "d13bad5c-4139-4a75-9413-56855cfd7315",
   "metadata": {},
   "outputs": [],
   "source": [
    "# Создаем объект для работы с базой данных\n",
    "db_connection = PostgresConnection()\n",
    "\n",
    "query = 'SELECT * FROM sales'\n",
    "data = db_connection.execute_query(query)"
   ]
  },
  {
   "cell_type": "markdown",
   "id": "e8529668-ad41-47b4-bb5d-1da14c9f52ed",
   "metadata": {},
   "source": [
    "### Подготовка данных"
   ]
  },
  {
   "cell_type": "code",
   "execution_count": null,
   "id": "544d342b-6a18-4fef-b45b-6b9b80187e13",
   "metadata": {},
   "outputs": [],
   "source": [
    "# Создаем объект DataCleaner с данным DataFrame\n",
    "cleaner = DataCleaner(data)\n",
    "\n",
    "# Удаляем строки с отрицательными значениями в 'dr_sdisc' и 'dr_kol'\n",
    "cleaned_data = cleaner.drop_negative_values()\n",
    "\n",
    "# Удаляем строки, где 'dr_nchk' имеет значения из списка [21, 593, 2495]\n",
    "cleaned_data = cleaner.drop_error_check_values()"
   ]
  },
  {
   "cell_type": "code",
   "execution_count": null,
   "id": "93d60d61-f178-46ca-a554-b4f30ff10fe5",
   "metadata": {},
   "outputs": [],
   "source": [
    "cleaned_data['price_without_discount'] = cleaned_data['dr_croz'] * cleaned_data['dr_kol']\n",
    "grouped = cleaned_data.groupby(['dr_tabempl', 'dr_apt', 'dr_nchk', 'dr_dat']).agg({'price_without_discount':'sum',\\\n",
    "                                                            'dr_sdisc':'max', 'dr_tpay':'max', 'dr_vzak':'max'}).reset_index()\n",
    "grouped['final_price'] = grouped['price_without_discount'] - grouped['dr_sdisc']\n",
    "grouped.head()"
   ]
  },
  {
   "cell_type": "markdown",
   "id": "7813c68c-94a6-4056-b94d-2f2064bc3509",
   "metadata": {},
   "source": [
    "### EDA"
   ]
  },
  {
   "cell_type": "markdown",
   "id": "a8e37d8a-21cb-43b6-ab0d-5f5c5b87bd67",
   "metadata": {},
   "source": [
    "**Статистика по группам**"
   ]
  },
  {
   "cell_type": "code",
   "execution_count": null,
   "id": "e353ddaf-1ed8-40d3-9b2e-8f3bc6f166a3",
   "metadata": {},
   "outputs": [],
   "source": [
    "# 1. Статистика \n",
    "grouped.groupby('dr_vzak')['final_price'].agg(\n",
    "    mean='mean',\n",
    "    median='median',\n",
    "    count='count'\n",
    ").reset_index().round(2)"
   ]
  },
  {
   "cell_type": "markdown",
   "id": "d54528b5-8e83-4cb3-aa65-8e8caeef1184",
   "metadata": {},
   "source": [
    "**Визуализация распределений**"
   ]
  },
  {
   "cell_type": "code",
   "execution_count": null,
   "id": "618f8c89-7124-4cba-b83d-353edcdad64d",
   "metadata": {},
   "outputs": [],
   "source": [
    "# 2. Проверим распределение по группам\n",
    "print(grouped[\"dr_vzak\"].value_counts())\n",
    "\n",
    "# 3. Визуализации\n",
    "plt.figure(figsize=(14, 4))\n",
    "\n",
    "# 1. -- Гистограмма\n",
    "plt.subplot(1, 3, 1)\n",
    "sns.histplot(data=grouped, x=\"final_price\", hue=\"dr_vzak\", kde=False, bins=50)\n",
    "plt.title(\"Гистограмма: финальная цена по скидкам\")\n",
    "\n",
    "# 2. -- KDE (плотность распределения)\n",
    "plt.subplot(1, 3, 2)\n",
    "sns.kdeplot(data=grouped, x=\"final_price\", hue=\"dr_vzak\", common_norm=False)\n",
    "plt.title(\"KDE: финальная цена по скидкам\")\n",
    "\n",
    "# 3. -- Boxplot\n",
    "plt.subplot(1, 3, 3)\n",
    "sns.boxplot(data=grouped, x=\"dr_vzak\", y=\"final_price\")\n",
    "plt.title(\"Boxplot: финальная цена по скидкам\")\n",
    "plt.xticks([0, 1], [\"Без скидки\", \"Со скидкой\"])\n",
    "\n",
    "plt.tight_layout()\n",
    "plt.show()"
   ]
  },
  {
   "cell_type": "markdown",
   "id": "6afe5171-d296-4902-a014-44a929e43451",
   "metadata": {},
   "source": [
    "Оба распределения:\n",
    "- асимметричны вправо (положительная асимметрия).\n",
    "- имеют много выбросов, что видно по boxplot'у.\n",
    "- KDE-график показывает, что группа со скидкой (2) имеет более \"растянутый хвост\", но общая форма у них схожая — пик в районе 500 – 1000 и длинный хвост вправо.\n",
    "- На гистограмме видно, что у группы без скидки чаще встречаются более низкие цены.\n",
    "\n",
    "Формы распределений достаточно схожи, несмотря на различия в масштабе и \"хвостах\"."
   ]
  },
  {
   "cell_type": "markdown",
   "id": "3f31793d-ded3-49a9-a326-45d7eebc18ae",
   "metadata": {},
   "source": [
    "## Welch t-test"
   ]
  },
  {
   "cell_type": "markdown",
   "id": "3ba5db40-440d-4375-a369-0667731039dd",
   "metadata": {},
   "source": [
    "### Лог-преобразование"
   ]
  },
  {
   "cell_type": "code",
   "execution_count": null,
   "id": "4c469dd4-b05c-4fe9-944c-fbffc067ca9b",
   "metadata": {},
   "outputs": [],
   "source": [
    "# 1. Лог-преобразование (добавляем +1, чтобы избежать log(0))\n",
    "grouped[\"log_final_price\"] = np.log1p(grouped[\"final_price\"])\n",
    "\n",
    "# 2. Делим на группы: со скидкой vs без скидки\n",
    "offline_log = grouped.loc[grouped[\"dr_vzak\"] == 1, \"log_final_price\"]\n",
    "online_log = grouped.loc[grouped[\"dr_vzak\"] == 2, \"log_final_price\"]\n",
    "\n",
    "# Создание фигуры и осей\n",
    "fig, axes = plt.subplots(1, 2, figsize=(12, 5))\n",
    "\n",
    "# Первый график Q-Q\n",
    "stats.probplot(offline_log, dist=\"norm\", plot=axes[0])\n",
    "axes[0].set_title(\"Q-Q Plot for offline_log\")\n",
    "\n",
    "# Второй график Q-Q\n",
    "stats.probplot(online_log, dist=\"norm\", plot=axes[1])\n",
    "axes[1].set_title(\"Q-Q Plot for online_log\")\n",
    "\n",
    "# Настройка и показ графиков\n",
    "fig.tight_layout()\n",
    "plt.show()"
   ]
  },
  {
   "cell_type": "markdown",
   "id": "ff68c2e2-5ddb-479c-a31c-6400641cc193",
   "metadata": {},
   "source": [
    "Для оценки нормальности распределений логарифмически преобразованных значений чеков по типам закупки были построены Q-Q графики. \n",
    "- Распределение для группы offline демонстрирует умеренное приближение к нормальному с отклонениями в нижнем хвосте.\n",
    "- Распределение для группы online значительно ближе к нормальному, за исключением незначительных выбросов."
   ]
  },
  {
   "cell_type": "code",
   "execution_count": null,
   "id": "5972acfc-dc0c-498d-bbd0-95021d7848f7",
   "metadata": {},
   "outputs": [],
   "source": [
    "# Берём палитру Set2 и выбираем нужные оттенки\n",
    "# 2 — голубой (#8DA0CB), 3 — розовый (#FC8D62)\n",
    "palette = [sns.color_palette(\"Set2\")[2], sns.color_palette(\"Set2\")[3]]\n",
    "palette_dict = {\"offline\": palette[0], \"online\": palette[1]}\n",
    "\n",
    "# Подготовка данных\n",
    "offline_log = grouped.loc[grouped[\"dr_vzak\"] == 1, \"log_final_price\"]\n",
    "online_log = grouped.loc[grouped[\"dr_vzak\"] == 2, \"log_final_price\"]\n",
    "\n",
    "# Формируем DataFrame для визуализаций\n",
    "plot_df = pd.DataFrame({\n",
    "    \"log_final_price\": pd.concat([offline_log, online_log], ignore_index=True),\n",
    "    \"group\": ([\"offline\"] * len(offline_log)) + ([\"online\"] * len(online_log))\n",
    "})\n",
    "\n",
    "# === Графики ===\n",
    "fig, axes = plt.subplots(1, 3, figsize=(14, 5))\n",
    "\n",
    "# 1. -- Boxplot\n",
    "sns.boxplot(data=plot_df, x=\"group\", y=\"log_final_price\", hue=\"group\",\n",
    "            palette=palette_dict, ax=axes[0], legend=False)\n",
    "axes[0].set_title(\"Boxplot: лог-преобразованные цены\")\n",
    "axes[0].set_xlabel(\"\")\n",
    "axes[0].set_ylabel(\"log_final_price\")\n",
    "\n",
    "# 2. -- Violinplot\n",
    "sns.violinplot(data=plot_df, x=\"group\", y=\"log_final_price\", hue=\"group\",\n",
    "               palette=palette_dict, ax=axes[1], legend=False)\n",
    "axes[1].set_title(\"Violinplot: форма распределений\")\n",
    "axes[1].set_xlabel(\"\")\n",
    "axes[1].set_ylabel(\"log_final_price\")\n",
    "\n",
    "# 3. -- KDE plot\n",
    "sns.kdeplot(data=plot_df, x=\"log_final_price\", hue=\"group\", ax=axes[2],\n",
    "            palette=palette_dict, fill=True, alpha=0.7)\n",
    "axes[2].set_title(\"KDE: распределения лог-преобразованных цен\")\n",
    "axes[2].set_xlabel(\"log_final_price\")\n",
    "axes[2].set_ylabel(\"Density\")\n",
    "\n",
    "plt.tight_layout()\n",
    "plt.show()"
   ]
  },
  {
   "cell_type": "markdown",
   "id": "dac77491-d561-4e8f-8e22-ac246d838fb4",
   "metadata": {},
   "source": [
    "Для более детального визуального сравнения форм распределений финальной цены в группах, разделённых по признаку наличия скидки, целесообразно построить ядерные оценки плотности (KDE) для каждой группы отдельно.  \n",
    "Объединённый график затрудняет интерпретацию из-за различий в масштабе и плотности пиков, что мешает точной оценке различий в форме распределений. Построение отдельных KDE-графиков позволит более наглядно сравнить симметрию, ширину, наличие мод и хвостов каждого распределения, а также даст возможность более обоснованно оценить применимость непараметрических методов статистического анализа, таких как тест Манна – Уитни.  "
   ]
  },
  {
   "cell_type": "code",
   "execution_count": null,
   "id": "c4686800-de8b-45ea-82ce-73257fa9899d",
   "metadata": {},
   "outputs": [],
   "source": [
    "# Настройки стиля\n",
    "sns.set(style=\"whitegrid\")\n",
    "\n",
    "# Создание фигуры\n",
    "fig, axes = plt.subplots(1, 2, figsize=(12, 5))\n",
    "fig.suptitle(\"Распределение логарифмированных данных чеков по типу закупки\", fontsize=13)\n",
    "\n",
    "# Гистограмма + KDE для Offline\n",
    "sns.histplot(offline_log, kde=True, ax=axes[0], color='#8DA0CB') #steelblue\n",
    "axes[0].set_title(\"Offline: Гистограмма + KDE\")\n",
    "axes[0].set_xlabel(\"log(final_price)\")\n",
    "\n",
    "# Гистограмма + KDE для Online\n",
    "sns.histplot(online_log, kde=True, ax=axes[1], color='#FC8D62') #orange\n",
    "axes[1].set_title(\"Online: Гистограмма + KDE\")\n",
    "axes[1].set_xlabel(\"log(final_price)\")\n",
    "\n",
    "# Плотная компоновка\n",
    "plt.tight_layout(rect=[0, 0, 1, 0.95])\n",
    "plt.show()"
   ]
  },
  {
   "cell_type": "markdown",
   "id": "418b4184-2a2a-469f-ba73-69ef9bfd8f6a",
   "metadata": {},
   "source": [
    "Формы распределений в целом схожи: оба графика демонстрируют унимодальность, плавные контуры KDE и отсутствие выраженных скачков или резких переходов. Однако распределение для онлайн-покупок обладает большей \"тяжестью хвостов\" и менее выраженной симметрией. \n",
    "Оба лог-преобразованных распределения в целом близки к нормальному:   \n",
    "- offline_log — практически нормальное,   \n",
    "- online_log — с небольшим отрицательным перекосом и выраженными хвостами.    "
   ]
  },
  {
   "cell_type": "code",
   "execution_count": null,
   "id": "d38fd670-7ca4-400b-bd1e-7f05cee2ca23",
   "metadata": {},
   "outputs": [],
   "source": [
    "# Проверка скоса (skewness) и эксцесса (kurtosis)\n",
    "print(\"Skew offline_log:\", skew(offline_log))\n",
    "print(\"Kurtosis offline_log:\", kurtosis(offline_log))\n",
    "print(\"Skew online_log:\", skew(online_log))\n",
    "print(\"Kurtosis online_log:\", kurtosis(online_log))"
   ]
  },
  {
   "cell_type": "markdown",
   "id": "cda31081-e31b-42bf-8fb6-ca0d9e1cf402",
   "metadata": {},
   "source": [
    "**Интерпретация результатов**     \n",
    "Распределения логарифмированных данных демонстрируют приближение к нормальному распределению, однако сохраняются незначительные отклонения.  \n",
    "- Offline-покупки характеризуются умеренной симметрией (skew = -0.16) и близким к нормальному уровнем эксцесса (kurtosis = -0.03). График KDE показывает лёгкий перекос влево и однородную форму с одним выраженным пиком. Это указывает на почти нормальное распределение, незначительно скошенное в сторону меньших значений.  \n",
    "- Online-покупки имеют более выраженную отрицательную асимметрию (skew = -0.36) и лептокуртическую форму (kurtosis = 3.32), что отражается в визуально более вытянутых хвостах и более остром пике на KDE-графике. Наблюдается тенденция к наличию нескольких локальных максимумов, что может свидетельствовать о гетерогенности данных или наличии подгрупп.  "
   ]
  },
  {
   "cell_type": "markdown",
   "id": "91c6da31-10ed-4a67-b0ec-1968ce5a8cef",
   "metadata": {},
   "source": [
    "### Проверка пердпосылок"
   ]
  },
  {
   "cell_type": "markdown",
   "id": "4136ec31-843d-44a3-9a18-2fd28c2f9152",
   "metadata": {},
   "source": [
    "С учетом результатов визуального анализа и примененного лог-преобразования, можно сделать вывод, что оба распределения достаточно близки к нормальному для проведения Welch t-теста, который устойчив к умеренным отклонениям от нормальности и допускает различие дисперсий между группами."
   ]
  },
  {
   "cell_type": "markdown",
   "id": "439d417b-80e6-47a8-8757-1e65ccfa378f",
   "metadata": {},
   "source": [
    "### Проведение теста"
   ]
  },
  {
   "cell_type": "code",
   "execution_count": null,
   "id": "accebf94-6eb8-4e92-917a-4f5e7e2d90fa",
   "metadata": {},
   "outputs": [],
   "source": [
    "# 1. Welch’s t-test\n",
    "t_stat, p_val = stats.ttest_ind(offline_log, online_log, equal_var=False)\n",
    "print(\"=== Welch t-test (log-преобразованные данные) ===\")\n",
    "print(f\"t-статистика: {t_stat:.4f}, p-значение: {p_val:.4e}\")\n",
    "\n",
    "\n",
    "# 2. Cohen's d (размер эффекта для t-теста)\n",
    "mean_diff = np.mean(offline_log) - np.mean(online_log)\n",
    "pooled_std = np.sqrt(((offline_log.std() ** 2) + (online_log.std() ** 2)) / 2)\n",
    "cohen_d = mean_diff / pooled_std\n",
    "print(\"\\n=== Cohen's d ===\")\n",
    "print(f\"Cohen's d: {cohen_d:.3f}\")"
   ]
  },
  {
   "cell_type": "markdown",
   "id": "1d363688-3bdb-4e29-b0eb-997fa90eade6",
   "metadata": {},
   "source": [
    "## Mann–Whitney U test"
   ]
  },
  {
   "cell_type": "markdown",
   "id": "704b7163-74c9-4a43-b9d4-0570fcf5355f",
   "metadata": {},
   "source": [
    "### Проверка предпосылок"
   ]
  },
  {
   "cell_type": "markdown",
   "id": "3de45662-83bd-4377-8049-8449e29ab966",
   "metadata": {},
   "source": [
    "Логарифмированные распределения итоговой цены по типу закупки демонстрируют схожую форму, унимодальность и ограниченные отклонения от симметрии. Учитывая близость форм распределений, а также несоблюдение строгой нормальности (особенно для онлайн-покупок), применение непараметрического критерия Манна–Уитни является обоснованным и статистически корректным для сравнения центральных тенденций между группами.  "
   ]
  },
  {
   "cell_type": "markdown",
   "id": "bfb2b41b-7db8-435f-bfd4-a8cedd62cb9b",
   "metadata": {},
   "source": [
    "### Проведение теста"
   ]
  },
  {
   "cell_type": "code",
   "execution_count": null,
   "id": "00de3f14-a7be-4e6b-8505-2c67eb7409b6",
   "metadata": {},
   "outputs": [],
   "source": [
    "# Лог-преобразование не искажает порядок наблюдений и может быть использовано для устойчивости при наличии выбросов.\n",
    "# 1. Mann–Whitney U test\n",
    "u_stat, p_val_u = stats.mannwhitneyu(offline_log, online_log, alternative=\"two-sided\")\n",
    "print(\"\\n=== Mann–Whitney U test ===\")\n",
    "print(f\"U-статистика: {u_stat:.4f}, p-значение: {p_val_u:.4e}\")\n",
    "\n",
    "# 2. Cliff’s Delta (размер эффекта для непараметрического теста)\n",
    "def cliffs_delta(x, y):\n",
    "    n_x, n_y = len(x), len(y)\n",
    "    more = sum(xx > yy for xx in x for yy in y)\n",
    "    less = sum(xx < yy for xx in x for yy in y)\n",
    "    delta = (more - less) / (n_x * n_y)\n",
    "    return delta\n",
    "\n",
    "delta = cliffs_delta(offline_log, online_log)\n",
    "\n",
    "# Интерпретация Cliff’s Delta\n",
    "def interpret_cliffs(delta):\n",
    "    delta_abs = abs(delta)\n",
    "    if delta_abs < 0.147:\n",
    "        return \"negligible\"\n",
    "    elif delta_abs < 0.33:\n",
    "        return \"small\"\n",
    "    elif delta_abs < 0.474:\n",
    "        return \"medium\"\n",
    "    else:\n",
    "        return \"large\"\n",
    "\n",
    "print(\"\\n=== Cliff’s Delta ===\")\n",
    "print(f\"δ = {delta:.3f}, effect size = {interpret_cliffs(delta)}\")"
   ]
  },
  {
   "cell_type": "markdown",
   "id": "c5c07f98-eb0a-4a18-901e-0eeaf045285f",
   "metadata": {},
   "source": [
    "**Результаты:**\n",
    "\n",
    "Статистический анализ:  \n",
    "Welch’s t-test (на лог-преобразованных данных)\n",
    "- t = −38.31, p = 5.17 × 10⁻¹⁸⁴\n",
    "Mann–Whitney U test\n",
    "- U = 2 779 566.5, p = 3.73 × 10⁻¹⁷²\n",
    "Оба теста (параметрический и непараметрический) подтверждают статистически значимое различие между типами закупок (p ≪ 0.001).\n",
    "\n",
    "Размер эффекта\n",
    "- Cohen’s d = −1.23 (large)\n",
    "- Cliff’s δ = −0.615 (large)\n",
    "Отрицательный знак указывает, что средний чек выше у онлайн-заказов, чем у офлайн-заказов.\n",
    "\n",
    "Онлайн-заказы имеют значительно более высокий средний и медианный чек по сравнению с офлайн-покупками. Различие не только статистически значимо, но и практически значимо — размер эффекта большой (Cohen’s d ≈ 1.2, Cliff’s δ ≈ 0.6).  \n",
    "Это говорит о том, что формат онлайн-заказов привлекает покупателей, совершающих крупные целевые покупки, тогда как офлайн-покупки чаще носят мелкий или импульсивный характер.  "
   ]
  },
  {
   "cell_type": "markdown",
   "id": "05ab51bf-78a6-4754-a897-dc2a50fc8798",
   "metadata": {},
   "source": [
    "**Значение для бизнеса:**   \n",
    "Проведённые статистические тесты подтвердили, что различие среднего чека между онлайн- и офлайн-продажами статистически значимо и эффект большой (|d| > 1), что говорит о системном влиянии формата покупки.   \n",
    "- Онлайн-канал демонстрирует высокий средний чек и может быть ключевым драйвером выручки при относительно небольшом количестве заказов.     \n",
    "- Офлайн-точки приносят больший объём продаж по количеству транзакций, но с низким средним чеком.  \n",
    "- Стратегически важно рассматривать эти каналы в связке, а не в конкуренции — каждый выполняет свою роль в структуре продаж.  "
   ]
  },
  {
   "cell_type": "markdown",
   "id": "51984897-2233-4424-906b-8878b1b7c2dd",
   "metadata": {},
   "source": [
    "**Рекомендации**   \n",
    "Основной потенциал роста среднего чека в офлайн-сегменте лежит в управлении поведением покупателя, а не только в ценовых инструментах. Целесообразно сконцентрировать усилия на создании комплексного клиентского опыта в аптеке — сочетание ассортимента, визуальной среды, коммуникации и персонализации. Это позволит снизить разрыв с онлайн-каналом и устойчиво увеличить средний чек без прямого давления скидками.\n",
    "1. Развивать онлайн-канал как высокомаржинальный сегмент, с акцентом на удобство оформления и ассортимент товаров с высокой ценой.\n",
    "2. Повысить средний чек в офлайн-магазинах, используя:\n",
    "- механики \"комбо-наборов\"¹ и апселлинга;\n",
    "- персонализированные скидки при достижении порога суммы (по аналогии с онлайн);\n",
    "- визуальное стимулирование² (товары-сопутствия, аптечные наборы).\n",
    "3. Сегментировать аудиторию онлайн-покупателей — определить, какие категории и бренды чаще входят в крупные заказы, и использовать эти данные для таргетированных кампаний.\n",
    "4. При анализе эффективности сотрудников, поставщиков и аптек учитывать, что тип закупки — сильный фактор, влияющий на размер чека."
   ]
  },
  {
   "cell_type": "markdown",
   "id": "3660465c-f781-4844-af25-a189788101b5",
   "metadata": {},
   "source": [
    "*Комментарии к использованным терминам*\n",
    "\n",
    "Результаты анализа показали, что онлайн-заказы имеют существенно более высокий средний чек, чем покупки в аптеке.\n",
    "Это может быть связано с тем, что онлайн-покупатель чаще делает осознанный, комплексный заказ (на несколько позиций сразу), тогда как офлайн-покупки носят импульсивный и локальный характер.\n",
    "Чтобы сократить этот разрыв и повысить эффективность розничных аптек, можно использовать механики, усиливающие структуру и привлекательность офлайн-покупок.\n",
    "Механики вроде комбо-наборов и визуального стимулирования позволяют приблизить офлайн-поведение к онлайн, создавая ощущение удобства, продуманности и выгоды, присущее интернет-покупкам.  "
   ]
  },
  {
   "cell_type": "markdown",
   "id": "d82fe461-ffe9-4489-a777-49791b0af920",
   "metadata": {},
   "source": [
    "1. Механики «комбо-наборов»\n",
    "\n",
    "Суть: формирование тематических наборов взаимодополняющих товаров, продаваемых вместе по специальной цене.\n",
    "Такие решения стимулируют покупателя увеличить количество позиций в чеке и воспринимаются как забота о клиенте и удобство выбора.\n",
    "\n",
    "Примеры аптечных комбо-наборов:"
   ]
  },
  {
   "cell_type": "markdown",
   "id": "1f44bf9b-bbb3-41cb-80cb-cb9f69f01802",
   "metadata": {},
   "source": [
    "| Категория        | Пример набора                                    | Цель                                                 |\n",
    "| ---------------- | ------------------------------------------------ | ---------------------------------------------------- |\n",
    "| При простуде     | жаропонижающее + витамины + спрей для горла      | Повышение среднего чека за счёт комплексного решения |\n",
    "| Для родителей    | жаропонижающее + антисептик + детские пластыри   | Поддержка повторных и семейных покупок               |\n",
    "| Для красоты      | витамины для волос + шампунь + маска             | Рост cross-sell через сопутствующие товары           |\n",
    "| В дорогу         | обезболивающее + активированный уголь + пластыри | Увеличение сезонных и импульсных покупок             |\n"
   ]
  },
  {
   "cell_type": "markdown",
   "id": "303409b8-e764-45ea-b0a6-dba3e5e0c63e",
   "metadata": {},
   "source": [
    "Бизнес-эффект:   \n",
    "Рост среднего чека на 10–25% за счёт кросс-продаж.   \n",
    "Снижение времени принятия решения клиентом.   \n",
    "Повышение воспринимаемой ценности бренда аптеки.  "
   ]
  },
  {
   "cell_type": "markdown",
   "id": "8b4a8255-4a35-431d-93ea-402b2b905f33",
   "metadata": {},
   "source": [
    "2. Визуальное стимулирование и мерчандайзинг\n",
    "\n",
    "Суть: оформление торгового пространства и расположение товаров так, чтобы побудить клиента к дополнительным покупкам.\n",
    "Используются поведенческие принципы — внимание, доступность, напоминание о потенциальной потребности.\n",
    "\n",
    "Примеры:"
   ]
  },
  {
   "cell_type": "markdown",
   "id": "13c38639-62fb-46a5-b934-58d179d889f7",
   "metadata": {},
   "source": [
    "| Зона                        | Пример реализации                                              | Поведенческий эффект                       |\n",
    "| --------------------------- | -------------------------------------------------------------- | ------------------------------------------ |\n",
    "| **Кассовая зона**           | Витамины, пластыри, чай при простуде, леденцы                  | «Добавление по пути» (impulse buy)         |\n",
    "| **Сезонные стенды**         | «Готовься к осени», «Сезон аллергии»                           | Напоминание о возможной нужде              |\n",
    "| **Сопутствующие товары**    | Рядом с антибиотиками — пробиотики, рядом с тестами — витамины | Формирует доверие и ощущение заботы        |\n",
    "| **Готовые аптечки**         | Упакованные наборы «В дорогу», «Для семьи», «Домашняя аптечка» | Упрощает выбор и усиливает ощущение выгоды |\n"
   ]
  },
  {
   "cell_type": "markdown",
   "id": "c824aa63-c422-44ca-8b30-e4bd6dc5fe42",
   "metadata": {},
   "source": [
    "Бизнес-эффект:   \n",
    "Повышение вероятности импульсных покупок до +15%.  \n",
    "Усиление восприятия аптеки как эксперта, заботящегося о клиенте.    \n",
    "Снижение зависимости среднего чека от скидочных акций.  "
   ]
  },
  {
   "cell_type": "markdown",
   "id": "2a58f990-e8f3-4f61-91c4-0cf5235c26fa",
   "metadata": {},
   "source": [
    "Рекомендации для внедрения  \n",
    "1. Внедрить мониторинг “составов чеков” — анализировать, какие группы товаров часто встречаются вместе.  \n",
    "2. Создать линейку комбо-наборов под ключевые клиентские сценарии (ОРВИ, уход, путешествия и т.п.).  \n",
    "3. Оптимизировать визуальную выкладку: сопутствующие товары должны быть расположены физически рядом.  \n",
    "4. Использовать аналитику продаж для A/B-тестов — измерять изменение среднего чека после внедрения наборов или новых мерчандайзинговых решений.  "
   ]
  }
 ],
 "metadata": {
  "kernelspec": {
   "display_name": "Python 3 (ipykernel)",
   "language": "python",
   "name": "python3"
  },
  "language_info": {
   "codemirror_mode": {
    "name": "ipython",
    "version": 3
   },
   "file_extension": ".py",
   "mimetype": "text/x-python",
   "name": "python",
   "nbconvert_exporter": "python",
   "pygments_lexer": "ipython3",
   "version": "3.13.5"
  }
 },
 "nbformat": 4,
 "nbformat_minor": 5
}
