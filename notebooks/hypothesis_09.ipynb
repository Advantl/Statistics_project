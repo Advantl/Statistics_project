{
 "cells": [
  {
   "cell_type": "markdown",
   "id": "efbf3dc1-fdb5-4cf0-912a-37cb4ff2d5c9",
   "metadata": {},
   "source": [
    "# №9 Доля прибыльных товаров у разных поставщиков "
   ]
  },
  {
   "cell_type": "markdown",
   "id": "444deaf5-5d26-44a2-a9d0-c1e68e675687",
   "metadata": {},
   "source": [
    "**Формулировка гипотезы**  \n",
    "  \n",
    "H₀: Доля товаров, приносящих положительную прибыль, одинакова для всех поставщиков.  \n",
    "H₁: Есть различия в доле прибыльных товаров между поставщиками.  "
   ]
  },
  {
   "cell_type": "markdown",
   "id": "bd4217d7-7535-43f3-a0b9-db313eaa5b79",
   "metadata": {},
   "source": [
    "**Тесты**\n",
    "- Monte-Carlo χ² (перестановочный)\n",
    "    - Пост-хок парные permutation-тесты (Holm, Benjamini–Hochberg)"
   ]
  },
  {
   "cell_type": "markdown",
   "id": "6aab4586-82e9-441f-94c6-90002ec51d6c",
   "metadata": {},
   "source": [
    "### Загрузка данных"
   ]
  },
  {
   "cell_type": "code",
   "execution_count": 1,
   "id": "36a4c95a-9069-4f5c-b6a6-2b8e7c689d4a",
   "metadata": {},
   "outputs": [],
   "source": [
    "import pandas as pd\n",
    "import seaborn as sns\n",
    "import numpy as np\n",
    "import matplotlib.pyplot as plt\n",
    "import sqlalchemy\n",
    "import configparser\n",
    "from scipy.stats import chi2_contingency\n",
    "from statsmodels.stats.proportion import proportions_ztest\n",
    "from statsmodels.stats.multitest import multipletests\n",
    "from itertools import combinations\n",
    "from tqdm import trange   # для прогресс-бара \n",
    " # Импортируем класс из файла db_connection.py\n",
    "from db_connection import PostgresConnection\n",
    "# Импортируем класс из файла data_cleaner.py\n",
    "from data_cleaner import DataCleaner"
   ]
  },
  {
   "cell_type": "code",
   "execution_count": 2,
   "id": "fcb97824-ffa8-43f7-b7e1-21fb1e940ae0",
   "metadata": {},
   "outputs": [],
   "source": [
    "# Создаем объект для работы с базой данных\n",
    "db_connection = PostgresConnection()\n",
    "\n",
    "query = 'SELECT * FROM sales'\n",
    "data = db_connection.execute_query(query)"
   ]
  },
  {
   "cell_type": "markdown",
   "id": "c5ec466b-21a8-4eaf-a8be-0430b0162cf6",
   "metadata": {},
   "source": [
    "### Подготовка данных"
   ]
  },
  {
   "cell_type": "code",
   "execution_count": 3,
   "id": "09864e9b-e215-432c-aede-146c0fd19cc0",
   "metadata": {},
   "outputs": [],
   "source": [
    "# Создаем объект DataCleaner с данным DataFrame\n",
    "cleaner = DataCleaner(data)\n",
    "\n",
    "# Удаляем строки с отрицательными значениями в 'dr_sdisc' и 'dr_kol'\n",
    "cleaned_data = cleaner.drop_negative_values()\n",
    "\n",
    "# Удаляем строки, где 'dr_nchk' имеет значения из списка [21, 593, 2495]\n",
    "cleaned_data = cleaner.drop_error_check_values()"
   ]
  },
  {
   "cell_type": "markdown",
   "id": "ff8d9a53-df7d-4146-9af8-739e1cea7f3f",
   "metadata": {},
   "source": [
    "### Формирование чеков"
   ]
  },
  {
   "cell_type": "code",
   "execution_count": 4,
   "id": "859daf74-0795-436a-941b-3a4d187eeece",
   "metadata": {},
   "outputs": [
    {
     "data": {
      "text/html": [
       "<div>\n",
       "<style scoped>\n",
       "    .dataframe tbody tr th:only-of-type {\n",
       "        vertical-align: middle;\n",
       "    }\n",
       "\n",
       "    .dataframe tbody tr th {\n",
       "        vertical-align: top;\n",
       "    }\n",
       "\n",
       "    .dataframe thead th {\n",
       "        text-align: right;\n",
       "    }\n",
       "</style>\n",
       "<table border=\"1\" class=\"dataframe\">\n",
       "  <thead>\n",
       "    <tr style=\"text-align: right;\">\n",
       "      <th></th>\n",
       "      <th>dr_tabempl</th>\n",
       "      <th>dr_apt</th>\n",
       "      <th>dr_nchk</th>\n",
       "      <th>dr_dat</th>\n",
       "      <th>profit_without_discount</th>\n",
       "      <th>dr_sdisc</th>\n",
       "      <th>dr_suppl</th>\n",
       "      <th>profit</th>\n",
       "    </tr>\n",
       "  </thead>\n",
       "  <tbody>\n",
       "    <tr>\n",
       "      <th>0</th>\n",
       "      <td>15</td>\n",
       "      <td>11</td>\n",
       "      <td>2491</td>\n",
       "      <td>2022-05-03</td>\n",
       "      <td>349.08</td>\n",
       "      <td>0.0</td>\n",
       "      <td>Протек</td>\n",
       "      <td>349.08</td>\n",
       "    </tr>\n",
       "    <tr>\n",
       "      <th>1</th>\n",
       "      <td>15</td>\n",
       "      <td>11</td>\n",
       "      <td>2497</td>\n",
       "      <td>2022-05-04</td>\n",
       "      <td>93.31</td>\n",
       "      <td>0.0</td>\n",
       "      <td>Катрен г.Химки</td>\n",
       "      <td>93.31</td>\n",
       "    </tr>\n",
       "    <tr>\n",
       "      <th>2</th>\n",
       "      <td>15</td>\n",
       "      <td>11</td>\n",
       "      <td>2499</td>\n",
       "      <td>2022-05-04</td>\n",
       "      <td>110.30</td>\n",
       "      <td>0.0</td>\n",
       "      <td>Катрен г.Химки</td>\n",
       "      <td>110.30</td>\n",
       "    </tr>\n",
       "    <tr>\n",
       "      <th>3</th>\n",
       "      <td>15</td>\n",
       "      <td>11</td>\n",
       "      <td>2501</td>\n",
       "      <td>2022-05-04</td>\n",
       "      <td>48.90</td>\n",
       "      <td>0.0</td>\n",
       "      <td>Протек</td>\n",
       "      <td>48.90</td>\n",
       "    </tr>\n",
       "    <tr>\n",
       "      <th>4</th>\n",
       "      <td>15</td>\n",
       "      <td>11</td>\n",
       "      <td>2503</td>\n",
       "      <td>2022-05-04</td>\n",
       "      <td>36.23</td>\n",
       "      <td>0.0</td>\n",
       "      <td>Катрен г.Химки</td>\n",
       "      <td>36.23</td>\n",
       "    </tr>\n",
       "  </tbody>\n",
       "</table>\n",
       "</div>"
      ],
      "text/plain": [
       "   dr_tabempl  dr_apt  dr_nchk      dr_dat  profit_without_discount  dr_sdisc  \\\n",
       "0          15      11     2491  2022-05-03                   349.08       0.0   \n",
       "1          15      11     2497  2022-05-04                    93.31       0.0   \n",
       "2          15      11     2499  2022-05-04                   110.30       0.0   \n",
       "3          15      11     2501  2022-05-04                    48.90       0.0   \n",
       "4          15      11     2503  2022-05-04                    36.23       0.0   \n",
       "\n",
       "         dr_suppl  profit  \n",
       "0          Протек  349.08  \n",
       "1  Катрен г.Химки   93.31  \n",
       "2  Катрен г.Химки  110.30  \n",
       "3          Протек   48.90  \n",
       "4  Катрен г.Химки   36.23  "
      ]
     },
     "execution_count": 4,
     "metadata": {},
     "output_type": "execute_result"
    }
   ],
   "source": [
    "cleaned_data['profit_without_discount'] = (cleaned_data['dr_croz'] - cleaned_data['dr_czak']) * cleaned_data['dr_kol']\n",
    "grouped = cleaned_data.groupby(['dr_tabempl', 'dr_apt', 'dr_nchk', 'dr_dat']).agg({'profit_without_discount':'sum',\\\n",
    "                                                            'dr_sdisc':'max', 'dr_suppl':'max'}).reset_index()\n",
    "grouped['profit'] = grouped['profit_without_discount'] - grouped['dr_sdisc']\n",
    "grouped.head()"
   ]
  },
  {
   "cell_type": "markdown",
   "id": "f0bb26c6-0b20-4451-862a-cacd8d1165d3",
   "metadata": {},
   "source": [
    "### EDA"
   ]
  },
  {
   "cell_type": "markdown",
   "id": "11e33746-dae2-4798-8f0d-d0a3edcf7dd0",
   "metadata": {},
   "source": [
    "**Формирование выборок**"
   ]
  },
  {
   "cell_type": "code",
   "execution_count": 5,
   "id": "26fc49db-479d-49a7-87d0-1b18bd3e514a",
   "metadata": {},
   "outputs": [],
   "source": [
    "# создаём бинарный флаг прибыльности\n",
    "grouped['is_profitable'] = (grouped['profit'] > 0).astype(int)"
   ]
  },
  {
   "cell_type": "markdown",
   "id": "3522b118-3a9d-4d1f-835b-9d70640cdcb1",
   "metadata": {},
   "source": [
    "**Статистика по группам**"
   ]
  },
  {
   "cell_type": "code",
   "execution_count": 6,
   "id": "9cdaf39b-ed80-46db-a9e3-6b1653ffbe0b",
   "metadata": {},
   "outputs": [
    {
     "data": {
      "text/html": [
       "<div>\n",
       "<style scoped>\n",
       "    .dataframe tbody tr th:only-of-type {\n",
       "        vertical-align: middle;\n",
       "    }\n",
       "\n",
       "    .dataframe tbody tr th {\n",
       "        vertical-align: top;\n",
       "    }\n",
       "\n",
       "    .dataframe thead th {\n",
       "        text-align: right;\n",
       "    }\n",
       "</style>\n",
       "<table border=\"1\" class=\"dataframe\">\n",
       "  <thead>\n",
       "    <tr style=\"text-align: right;\">\n",
       "      <th></th>\n",
       "      <th>is_profitable</th>\n",
       "      <th>mean</th>\n",
       "      <th>median</th>\n",
       "      <th>count</th>\n",
       "    </tr>\n",
       "  </thead>\n",
       "  <tbody>\n",
       "    <tr>\n",
       "      <th>0</th>\n",
       "      <td>0</td>\n",
       "      <td>-38.05</td>\n",
       "      <td>-21.98</td>\n",
       "      <td>171</td>\n",
       "    </tr>\n",
       "    <tr>\n",
       "      <th>1</th>\n",
       "      <td>1</td>\n",
       "      <td>113.54</td>\n",
       "      <td>66.43</td>\n",
       "      <td>20811</td>\n",
       "    </tr>\n",
       "  </tbody>\n",
       "</table>\n",
       "</div>"
      ],
      "text/plain": [
       "   is_profitable    mean  median  count\n",
       "0              0  -38.05  -21.98    171\n",
       "1              1  113.54   66.43  20811"
      ]
     },
     "execution_count": 6,
     "metadata": {},
     "output_type": "execute_result"
    }
   ],
   "source": [
    "# 1. Статистика \n",
    "grouped.groupby('is_profitable')['profit'].agg(\n",
    "    mean='mean',\n",
    "    median='median',\n",
    "    count='count'\n",
    ").reset_index().round(2)"
   ]
  },
  {
   "cell_type": "markdown",
   "id": "92ad8785-1d13-4e1a-b5be-064a986f838b",
   "metadata": {},
   "source": [
    "**Распределение поставщиков по доле прибыльных товаров** "
   ]
  },
  {
   "cell_type": "markdown",
   "id": "1bc55401-32f3-466c-b9da-b9d60e956f1c",
   "metadata": {},
   "source": [
    "В анализе учитываются все позиции, представленные в наборе данных, где каждая строка соответствует одной продаже. Таким образом, один и тот же товар может встречаться многократно, и каждая его продажа включается в расчёты отдельно. Это позволяет отразить реальную долю прибыльных продаж, соотнося их с общим числом совершённых транзакций, а не только с количеством уникальных товаров."
   ]
  },
  {
   "cell_type": "code",
   "execution_count": 7,
   "id": "272d8c28-d01f-4e07-8d64-e58ff1a025ba",
   "metadata": {},
   "outputs": [
    {
     "data": {
      "text/html": [
       "<div>\n",
       "<style scoped>\n",
       "    .dataframe tbody tr th:only-of-type {\n",
       "        vertical-align: middle;\n",
       "    }\n",
       "\n",
       "    .dataframe tbody tr th {\n",
       "        vertical-align: top;\n",
       "    }\n",
       "\n",
       "    .dataframe thead th {\n",
       "        text-align: right;\n",
       "    }\n",
       "</style>\n",
       "<table border=\"1\" class=\"dataframe\">\n",
       "  <thead>\n",
       "    <tr style=\"text-align: right;\">\n",
       "      <th></th>\n",
       "      <th>total_items</th>\n",
       "      <th>profitable_items</th>\n",
       "      <th>profit_share</th>\n",
       "    </tr>\n",
       "    <tr>\n",
       "      <th>dr_suppl</th>\n",
       "      <th></th>\n",
       "      <th></th>\n",
       "      <th></th>\n",
       "    </tr>\n",
       "  </thead>\n",
       "  <tbody>\n",
       "    <tr>\n",
       "      <th>АЛВИЛС ООО</th>\n",
       "      <td>1</td>\n",
       "      <td>1</td>\n",
       "      <td>1.000000</td>\n",
       "    </tr>\n",
       "    <tr>\n",
       "      <th>БСС</th>\n",
       "      <td>126</td>\n",
       "      <td>126</td>\n",
       "      <td>1.000000</td>\n",
       "    </tr>\n",
       "    <tr>\n",
       "      <th>ЕАПТЕКА ООО</th>\n",
       "      <td>366</td>\n",
       "      <td>366</td>\n",
       "      <td>1.000000</td>\n",
       "    </tr>\n",
       "    <tr>\n",
       "      <th>Вернигор Николай Викторович</th>\n",
       "      <td>1</td>\n",
       "      <td>1</td>\n",
       "      <td>1.000000</td>\n",
       "    </tr>\n",
       "    <tr>\n",
       "      <th>СиЭс Медика Калуга</th>\n",
       "      <td>9</td>\n",
       "      <td>9</td>\n",
       "      <td>1.000000</td>\n",
       "    </tr>\n",
       "    <tr>\n",
       "      <th>Подотчетное лицо</th>\n",
       "      <td>9</td>\n",
       "      <td>9</td>\n",
       "      <td>1.000000</td>\n",
       "    </tr>\n",
       "    <tr>\n",
       "      <th>ООО ИДВ</th>\n",
       "      <td>2</td>\n",
       "      <td>2</td>\n",
       "      <td>1.000000</td>\n",
       "    </tr>\n",
       "    <tr>\n",
       "      <th>ООО \"КОМУС\"</th>\n",
       "      <td>10</td>\n",
       "      <td>10</td>\n",
       "      <td>1.000000</td>\n",
       "    </tr>\n",
       "    <tr>\n",
       "      <th>ОДАС ФАРМА ООО</th>\n",
       "      <td>1</td>\n",
       "      <td>1</td>\n",
       "      <td>1.000000</td>\n",
       "    </tr>\n",
       "    <tr>\n",
       "      <th>Индивидуальный предприниматель Кочанов Андрей Миха</th>\n",
       "      <td>48</td>\n",
       "      <td>48</td>\n",
       "      <td>1.000000</td>\n",
       "    </tr>\n",
       "    <tr>\n",
       "      <th>Авеста</th>\n",
       "      <td>414</td>\n",
       "      <td>413</td>\n",
       "      <td>0.997585</td>\n",
       "    </tr>\n",
       "    <tr>\n",
       "      <th>Фармкомплект ООО</th>\n",
       "      <td>1195</td>\n",
       "      <td>1192</td>\n",
       "      <td>0.997490</td>\n",
       "    </tr>\n",
       "    <tr>\n",
       "      <th>Арал плюс</th>\n",
       "      <td>308</td>\n",
       "      <td>307</td>\n",
       "      <td>0.996753</td>\n",
       "    </tr>\n",
       "    <tr>\n",
       "      <th>ООО \"Акцентмед\"</th>\n",
       "      <td>341</td>\n",
       "      <td>339</td>\n",
       "      <td>0.994135</td>\n",
       "    </tr>\n",
       "    <tr>\n",
       "      <th>Здравсервис</th>\n",
       "      <td>705</td>\n",
       "      <td>700</td>\n",
       "      <td>0.992908</td>\n",
       "    </tr>\n",
       "    <tr>\n",
       "      <th>Пульс</th>\n",
       "      <td>7704</td>\n",
       "      <td>7641</td>\n",
       "      <td>0.991822</td>\n",
       "    </tr>\n",
       "    <tr>\n",
       "      <th>Катрен г.Химки</th>\n",
       "      <td>3649</td>\n",
       "      <td>3618</td>\n",
       "      <td>0.991505</td>\n",
       "    </tr>\n",
       "    <tr>\n",
       "      <th>ГК Надежда Фарм</th>\n",
       "      <td>224</td>\n",
       "      <td>222</td>\n",
       "      <td>0.991071</td>\n",
       "    </tr>\n",
       "    <tr>\n",
       "      <th>Протек</th>\n",
       "      <td>2872</td>\n",
       "      <td>2846</td>\n",
       "      <td>0.990947</td>\n",
       "    </tr>\n",
       "    <tr>\n",
       "      <th>ГРАНД КАПИТАЛ СМОЛЕНСК ООО ФК</th>\n",
       "      <td>1217</td>\n",
       "      <td>1205</td>\n",
       "      <td>0.990140</td>\n",
       "    </tr>\n",
       "    <tr>\n",
       "      <th>ПрофитМед</th>\n",
       "      <td>395</td>\n",
       "      <td>391</td>\n",
       "      <td>0.989873</td>\n",
       "    </tr>\n",
       "    <tr>\n",
       "      <th>Норман</th>\n",
       "      <td>186</td>\n",
       "      <td>184</td>\n",
       "      <td>0.989247</td>\n",
       "    </tr>\n",
       "    <tr>\n",
       "      <th>СТЭЛМАС-Д ООО</th>\n",
       "      <td>434</td>\n",
       "      <td>429</td>\n",
       "      <td>0.988479</td>\n",
       "    </tr>\n",
       "    <tr>\n",
       "      <th>ВИТТА КОМПАНИ ООО</th>\n",
       "      <td>350</td>\n",
       "      <td>345</td>\n",
       "      <td>0.985714</td>\n",
       "    </tr>\n",
       "    <tr>\n",
       "      <th>Магнит Фарма ООО</th>\n",
       "      <td>339</td>\n",
       "      <td>334</td>\n",
       "      <td>0.985251</td>\n",
       "    </tr>\n",
       "    <tr>\n",
       "      <th>ООО \"Континент\"</th>\n",
       "      <td>76</td>\n",
       "      <td>72</td>\n",
       "      <td>0.947368</td>\n",
       "    </tr>\n",
       "  </tbody>\n",
       "</table>\n",
       "</div>"
      ],
      "text/plain": [
       "                                                    total_items  \\\n",
       "dr_suppl                                                          \n",
       "АЛВИЛС ООО                                                    1   \n",
       "БСС                                                         126   \n",
       "ЕАПТЕКА ООО                                                 366   \n",
       "Вернигор Николай Викторович                                   1   \n",
       "СиЭс Медика Калуга                                            9   \n",
       "Подотчетное лицо                                              9   \n",
       "ООО ИДВ                                                       2   \n",
       "ООО \"КОМУС\"                                                  10   \n",
       "ОДАС ФАРМА ООО                                                1   \n",
       "Индивидуальный предприниматель Кочанов Андрей Миха           48   \n",
       "Авеста                                                      414   \n",
       "Фармкомплект ООО                                           1195   \n",
       "Арал плюс                                                   308   \n",
       "ООО \"Акцентмед\"                                             341   \n",
       "Здравсервис                                                 705   \n",
       "Пульс                                                      7704   \n",
       "Катрен г.Химки                                             3649   \n",
       "ГК Надежда Фарм                                             224   \n",
       "Протек                                                     2872   \n",
       "ГРАНД КАПИТАЛ СМОЛЕНСК ООО ФК                              1217   \n",
       "ПрофитМед                                                   395   \n",
       "Норман                                                      186   \n",
       "СТЭЛМАС-Д ООО                                               434   \n",
       "ВИТТА КОМПАНИ ООО                                           350   \n",
       "Магнит Фарма ООО                                            339   \n",
       "ООО \"Континент\"                                              76   \n",
       "\n",
       "                                                    profitable_items  \\\n",
       "dr_suppl                                                               \n",
       "АЛВИЛС ООО                                                         1   \n",
       "БСС                                                              126   \n",
       "ЕАПТЕКА ООО                                                      366   \n",
       "Вернигор Николай Викторович                                        1   \n",
       "СиЭс Медика Калуга                                                 9   \n",
       "Подотчетное лицо                                                   9   \n",
       "ООО ИДВ                                                            2   \n",
       "ООО \"КОМУС\"                                                       10   \n",
       "ОДАС ФАРМА ООО                                                     1   \n",
       "Индивидуальный предприниматель Кочанов Андрей Миха                48   \n",
       "Авеста                                                           413   \n",
       "Фармкомплект ООО                                                1192   \n",
       "Арал плюс                                                        307   \n",
       "ООО \"Акцентмед\"                                                  339   \n",
       "Здравсервис                                                      700   \n",
       "Пульс                                                           7641   \n",
       "Катрен г.Химки                                                  3618   \n",
       "ГК Надежда Фарм                                                  222   \n",
       "Протек                                                          2846   \n",
       "ГРАНД КАПИТАЛ СМОЛЕНСК ООО ФК                                   1205   \n",
       "ПрофитМед                                                        391   \n",
       "Норман                                                           184   \n",
       "СТЭЛМАС-Д ООО                                                    429   \n",
       "ВИТТА КОМПАНИ ООО                                                345   \n",
       "Магнит Фарма ООО                                                 334   \n",
       "ООО \"Континент\"                                                   72   \n",
       "\n",
       "                                                    profit_share  \n",
       "dr_suppl                                                          \n",
       "АЛВИЛС ООО                                              1.000000  \n",
       "БСС                                                     1.000000  \n",
       "ЕАПТЕКА ООО                                             1.000000  \n",
       "Вернигор Николай Викторович                             1.000000  \n",
       "СиЭс Медика Калуга                                      1.000000  \n",
       "Подотчетное лицо                                        1.000000  \n",
       "ООО ИДВ                                                 1.000000  \n",
       "ООО \"КОМУС\"                                             1.000000  \n",
       "ОДАС ФАРМА ООО                                          1.000000  \n",
       "Индивидуальный предприниматель Кочанов Андрей Миха      1.000000  \n",
       "Авеста                                                  0.997585  \n",
       "Фармкомплект ООО                                        0.997490  \n",
       "Арал плюс                                               0.996753  \n",
       "ООО \"Акцентмед\"                                         0.994135  \n",
       "Здравсервис                                             0.992908  \n",
       "Пульс                                                   0.991822  \n",
       "Катрен г.Химки                                          0.991505  \n",
       "ГК Надежда Фарм                                         0.991071  \n",
       "Протек                                                  0.990947  \n",
       "ГРАНД КАПИТАЛ СМОЛЕНСК ООО ФК                           0.990140  \n",
       "ПрофитМед                                               0.989873  \n",
       "Норман                                                  0.989247  \n",
       "СТЭЛМАС-Д ООО                                           0.988479  \n",
       "ВИТТА КОМПАНИ ООО                                       0.985714  \n",
       "Магнит Фарма ООО                                        0.985251  \n",
       "ООО \"Континент\"                                         0.947368  "
      ]
     },
     "execution_count": 7,
     "metadata": {},
     "output_type": "execute_result"
    }
   ],
   "source": [
    "# группировка по поставщику\n",
    "supplier_stats = (\n",
    "    grouped.groupby('dr_suppl')\n",
    "      .agg(\n",
    "          total_items=('profit', 'count'),\n",
    "          profitable_items=('is_profitable', 'sum')\n",
    "      )\n",
    ")\n",
    "\n",
    "# добавляем долю прибыльных продаж\n",
    "supplier_stats['profit_share'] = supplier_stats['profitable_items'] / supplier_stats['total_items']\n",
    "\n",
    "# сортируем по убыванию доли\n",
    "supplier_stats = supplier_stats.sort_values('profit_share', ascending=False)\n",
    "\n",
    "supplier_stats"
   ]
  },
  {
   "cell_type": "code",
   "execution_count": 8,
   "id": "e89c0bf9-945d-4818-b299-e0ca39804248",
   "metadata": {},
   "outputs": [
    {
     "name": "stdout",
     "output_type": "stream",
     "text": [
      "(26, 3)\n"
     ]
    },
    {
     "data": {
      "text/plain": [
       "count    26.000000\n",
       "mean      0.993088\n",
       "std       0.010594\n",
       "min       0.947368\n",
       "25%       0.990342\n",
       "50%       0.995444\n",
       "75%       1.000000\n",
       "max       1.000000\n",
       "Name: profit_share, dtype: float64"
      ]
     },
     "execution_count": 8,
     "metadata": {},
     "output_type": "execute_result"
    }
   ],
   "source": [
    "# Проверим размерность\n",
    "print(supplier_stats.shape)\n",
    "\n",
    "# Основные описательные статистики\n",
    "supplier_stats['profit_share'].describe()"
   ]
  },
  {
   "cell_type": "markdown",
   "id": "a0cbc59a-7de4-4608-a548-34faf72c84e7",
   "metadata": {},
   "source": [
    "**Визуализация распределений**"
   ]
  },
  {
   "cell_type": "code",
   "execution_count": 9,
   "id": "d27b37d6-be11-4704-8e42-633e4f6c0a7c",
   "metadata": {},
   "outputs": [
    {
     "data": {
      "image/png": "[encoded data removed]",
      "text/plain": [
       "<Figure size 800x500 with 1 Axes>"
      ]
     },
     "metadata": {},
     "output_type": "display_data"
    }
   ],
   "source": [
    "# 1. -- Гистограмма долей прибыльных товаров\n",
    "plt.figure(figsize=(8,5))\n",
    "sns.histplot(supplier_stats['profit_share'], bins=20, kde=True, color=\"skyblue\")\n",
    "plt.title(\"Распределение доли прибыльных продаж по поставщикам\")\n",
    "plt.xlabel(\"Доля прибыльных продаж\")\n",
    "plt.ylabel(\"Количество поставщиков\")\n",
    "plt.show()"
   ]
  },
  {
   "cell_type": "markdown",
   "id": "14459fb8-43af-4288-bdd3-b8767fb46194",
   "metadata": {},
   "source": [
    "Распределение доли прибыльных продаж по поставщикам сильно смещено в сторону 1. Это свидетельствует о том, что подавляющее большинство поставщиков имеют почти 100%-ную долю прибыльных продаж. Наличие отдельных выбросов с более низкими значениями указывает на незначительное количество поставщиков с относительно меньшей эффективностью."
   ]
  },
  {
   "cell_type": "code",
   "execution_count": 10,
   "id": "9765043c-32a8-4547-88b5-024c40d7abcf",
   "metadata": {},
   "outputs": [
    {
     "data": {
      "image/png": "[encoded data removed]",
      "text/plain": [
       "<Figure size 1000x500 with 1 Axes>"
      ]
     },
     "metadata": {},
     "output_type": "display_data"
    }
   ],
   "source": [
    "# 2. Топ-10 поставщиков по доле прибыльных товаров\n",
    "top10 = supplier_stats.sort_values('profit_share', ascending=False).head(10)\n",
    "plt.figure(figsize=(10,5))\n",
    "sns.barplot(x='profit_share', y='dr_suppl', data=top10, palette=\"viridis\", hue='dr_suppl')\n",
    "plt.title(\"ТОП-10 поставщиков по доле прибыльных продаж\")\n",
    "plt.xlabel(\"Доля прибыльных продаж\")\n",
    "plt.ylabel(\"Поставщик\")\n",
    "plt.show()"
   ]
  },
  {
   "cell_type": "markdown",
   "id": "33ea2b12-b3c8-487a-a53e-70a4e91b0e94",
   "metadata": {},
   "source": [
    "Наблюдаемое значение — 100%-ная доля прибыльных товаров у топ-10 поставщиков — требует дополнительного анализа на предмет возможной связи с объёмом ассортимента. Целесообразно оценить, не является ли высокая доля прибыльных позиций следствием ограниченного количества товаров у этих поставщиков, а не их качественных характеристик."
   ]
  },
  {
   "cell_type": "code",
   "execution_count": 11,
   "id": "1d7c3ed0-40f0-4aec-af25-0b06b8cd9d92",
   "metadata": {},
   "outputs": [
    {
     "data": {
      "image/png": "[encoded data removed]",
      "text/plain": [
       "<Figure size 600x500 with 1 Axes>"
      ]
     },
     "metadata": {},
     "output_type": "display_data"
    }
   ],
   "source": [
    "# 3. -- Boxplot — выделить «аномальных» поставщиков\n",
    "plt.figure(figsize=(6,5))\n",
    "sns.boxplot(y=supplier_stats['profit_share'], color=\"lightgreen\")\n",
    "plt.title(\"Boxplot: доля прибыльных продаж по поставщикам\")\n",
    "plt.ylabel(\"Доля прибыльных товаров\")\n",
    "plt.show()"
   ]
  },
  {
   "cell_type": "markdown",
   "id": "ae2594c7-0432-4308-8ea5-9c9448721ae9",
   "metadata": {},
   "source": [
    "Распределение доли прибыльных товаров по поставщикам характеризуется высокой концентрацией значений в диапазоне от 0.99 до 1.00, что свидетельствует о стабильно высокой прибыльности большинства поставщиков. Медиана близка к 1.00, межквартильный размах невелик, что указывает на низкую вариативность. Наблюдается один выброс с долей около 0.95, что может указывать на поставщика с существенно меньшей долей прибыльных товаров по сравнению с остальными."
   ]
  },
  {
   "cell_type": "code",
   "execution_count": 12,
   "id": "60b60669-4633-4b5e-a4ad-bf7c895f20b6",
   "metadata": {},
   "outputs": [
    {
     "data": {
      "image/png": "[encoded data removed]",
      "text/plain": [
       "<Figure size 800x500 with 1 Axes>"
      ]
     },
     "metadata": {},
     "output_type": "display_data"
    }
   ],
   "source": [
    "# 4. -- Проверим связь с количеством продаж\n",
    "plt.figure(figsize=(8,5))\n",
    "sns.scatterplot(x='total_items', y='profit_share', data=supplier_stats, alpha=0.7)\n",
    "plt.title(\"Связь: количество продаж vs доля прибыльных\")\n",
    "plt.xlabel(\"Общее количество продаж\")\n",
    "plt.ylabel(\"Доля прибыльных\")\n",
    "plt.show()"
   ]
  },
  {
   "cell_type": "markdown",
   "id": "af681383-01cb-442f-8311-8df2e1e85b6b",
   "metadata": {},
   "source": [
    "Распределение демонстрирует высокую долю прибыльных продаж вне зависимости от общего количества продаж у поставщиков. Большинство точек сосредоточено в области с низким объёмом продаж и высокой долей прибыльности (близкой к 1.0). Существенной корреляции между количеством продаж и долей прибыльных товаров не наблюдается. Выбивающаяся точка с низкой долей прибыльных продаж при малом объёме указывает на потенциальную аномалию. "
   ]
  },
  {
   "cell_type": "code",
   "execution_count": 13,
   "id": "9174736b-7cbd-4138-a6e3-0228a28d54c8",
   "metadata": {},
   "outputs": [
    {
     "data": {
      "text/html": [
       "<div>\n",
       "<style scoped>\n",
       "    .dataframe tbody tr th:only-of-type {\n",
       "        vertical-align: middle;\n",
       "    }\n",
       "\n",
       "    .dataframe tbody tr th {\n",
       "        vertical-align: top;\n",
       "    }\n",
       "\n",
       "    .dataframe thead th {\n",
       "        text-align: right;\n",
       "    }\n",
       "</style>\n",
       "<table border=\"1\" class=\"dataframe\">\n",
       "  <thead>\n",
       "    <tr style=\"text-align: right;\">\n",
       "      <th></th>\n",
       "      <th>total_items</th>\n",
       "      <th>profitable_items</th>\n",
       "      <th>profit_share</th>\n",
       "    </tr>\n",
       "    <tr>\n",
       "      <th>dr_suppl</th>\n",
       "      <th></th>\n",
       "      <th></th>\n",
       "      <th></th>\n",
       "    </tr>\n",
       "  </thead>\n",
       "  <tbody>\n",
       "    <tr>\n",
       "      <th>ООО \"Континент\"</th>\n",
       "      <td>76</td>\n",
       "      <td>72</td>\n",
       "      <td>0.947368</td>\n",
       "    </tr>\n",
       "  </tbody>\n",
       "</table>\n",
       "</div>"
      ],
      "text/plain": [
       "                 total_items  profitable_items  profit_share\n",
       "dr_suppl                                                    \n",
       "ООО \"Континент\"           76                72      0.947368"
      ]
     },
     "execution_count": 13,
     "metadata": {},
     "output_type": "execute_result"
    }
   ],
   "source": [
    "# Найдем эту точку\n",
    "supplier_stats[supplier_stats['profit_share'] < 0.95]"
   ]
  },
  {
   "cell_type": "markdown",
   "id": "27e7d7d6-02d9-487f-91cb-c55abab3547a",
   "metadata": {},
   "source": [
    "Для улучшения различимости данных и выявления потенциальных зависимостей, целесообразно использовать логарифмическую шкалу для оси X (общее количество продаж). Это позволит более явно отобразить различия между поставщиками с малым объёмом продаж, которые в текущем масштабе сливаются в одну область."
   ]
  },
  {
   "cell_type": "code",
   "execution_count": 14,
   "id": "2b66132f-780e-49a1-8e3e-ada6200d0f66",
   "metadata": {},
   "outputs": [
    {
     "data": {
      "image/png": "[encoded data removed]",
      "text/plain": [
       "<Figure size 640x480 with 1 Axes>"
      ]
     },
     "metadata": {},
     "output_type": "display_data"
    }
   ],
   "source": [
    "# 5. -- лог-масштаб\n",
    "sns.scatterplot(x='total_items', y='profit_share', data=supplier_stats)\n",
    "plt.xscale(\"log\")  # лог-масштаб, если есть большие различия\n",
    "plt.title(\"Количество продаж vs доля прибыльных\")\n",
    "plt.xlabel(\"Общее количество продаж\")\n",
    "plt.ylabel(\"Доля прибыльных\")\n",
    "plt.show()"
   ]
  },
  {
   "cell_type": "markdown",
   "id": "ae96b0af-7e30-454b-8fe8-3dcd34e42d37",
   "metadata": {},
   "source": [
    "Для обеспечения корректности статистического анализа поставщики с числом наблюдений менее 30 были объединены в одну категорию под названием \"Другие\", поскольку статистические методы требуют достаточного объёма данных в каждой группе.  "
   ]
  },
  {
   "cell_type": "code",
   "execution_count": 15,
   "id": "f9bc3f16-a180-41ab-beab-dd5bb6bc7a7c",
   "metadata": {},
   "outputs": [
    {
     "data": {
      "text/plain": [
       "supplier_grouped\n",
       "Пульс                                                 7704\n",
       "Катрен г.Химки                                        3649\n",
       "Протек                                                2872\n",
       "ГРАНД КАПИТАЛ СМОЛЕНСК ООО ФК                         1217\n",
       "Фармкомплект ООО                                      1195\n",
       "Здравсервис                                            705\n",
       "СТЭЛМАС-Д ООО                                          434\n",
       "Авеста                                                 414\n",
       "ПрофитМед                                              395\n",
       "ЕАПТЕКА ООО                                            366\n",
       "ВИТТА КОМПАНИ ООО                                      350\n",
       "ООО \"Акцентмед\"                                        341\n",
       "Магнит Фарма ООО                                       339\n",
       "Арал плюс                                              308\n",
       "ГК Надежда Фарм                                        224\n",
       "Норман                                                 186\n",
       "БСС                                                    126\n",
       "ООО \"Континент\"                                         76\n",
       "Индивидуальный предприниматель Кочанов Андрей Миха      48\n",
       "Другие                                                  33\n",
       "Name: count, dtype: int64"
      ]
     },
     "execution_count": 15,
     "metadata": {},
     "output_type": "execute_result"
    }
   ],
   "source": [
    "# Копия исходной таблицы\n",
    "supplier_stats = (\n",
    "    grouped.groupby('dr_suppl')\n",
    "      .agg(\n",
    "          total_items=('profit', 'count'),\n",
    "          profitable_items=('is_profitable', 'sum')\n",
    "      )\n",
    ")\n",
    "\n",
    "# Доля прибыльных продаж\n",
    "supplier_stats['profit_share'] = supplier_stats['profitable_items'] / supplier_stats['total_items']\n",
    "\n",
    "# Объединяем мелких поставщиков \n",
    "threshold = 30  \n",
    "small_suppliers = supplier_stats[supplier_stats['total_items'] < threshold].index\n",
    "\n",
    "# Копируем исходный датафрейм, чтобы добавить колонку с новой группировкой\n",
    "grouped = grouped.copy()\n",
    "grouped['supplier_grouped'] = grouped['dr_suppl'].apply(\n",
    "    lambda x: 'Другие' if x in small_suppliers else x\n",
    ")\n",
    "\n",
    "# Проверяем, как распределились группы \n",
    "grouped['supplier_grouped'].value_counts().sort_values(ascending=False)"
   ]
  },
  {
   "cell_type": "markdown",
   "id": "f6aa62e1-b755-4656-86a5-042e5ab3ae95",
   "metadata": {},
   "source": [
    "## Monte-Carlo χ² (перестановочный)"
   ]
  },
  {
   "cell_type": "markdown",
   "id": "e3a698bd-dbb5-4a78-9cce-9d59e67cfc1d",
   "metadata": {},
   "source": [
    "### Проверка предпосылок"
   ]
  },
  {
   "cell_type": "markdown",
   "id": "30a17b49-8229-4d32-9e0c-ca41db9472d8",
   "metadata": {},
   "source": [
    "- Все наблюдения независимы (одно наблюдение = одна продажа). \n",
    "- Переменные категориальные:\n",
    "    - поставщик (supplier_grouped)\n",
    "    - прибыльность (is_profitable ∈ {0,1})\n",
    "- Нет пропусков (NaN)"
   ]
  },
  {
   "cell_type": "code",
   "execution_count": 16,
   "id": "3cac08db-b61b-49e7-abc5-9f8ea683cd8e",
   "metadata": {},
   "outputs": [
    {
     "data": {
      "text/plain": [
       "dr_tabempl                 0\n",
       "dr_apt                     0\n",
       "dr_nchk                    0\n",
       "dr_dat                     0\n",
       "profit_without_discount    0\n",
       "dr_sdisc                   0\n",
       "dr_suppl                   0\n",
       "profit                     0\n",
       "is_profitable              0\n",
       "supplier_grouped           0\n",
       "dtype: int64"
      ]
     },
     "execution_count": 16,
     "metadata": {},
     "output_type": "execute_result"
    }
   ],
   "source": [
    "grouped.isna().sum()"
   ]
  },
  {
   "cell_type": "markdown",
   "id": "21aea11d-c9d8-4e7d-b3fc-5ce0458b0186",
   "metadata": {},
   "source": [
    "### Проведение теста"
   ]
  },
  {
   "cell_type": "code",
   "execution_count": 17,
   "id": "acca8056-d315-4eff-a7bb-ece7bf460a2a",
   "metadata": {},
   "outputs": [
    {
     "name": "stdout",
     "output_type": "stream",
     "text": [
      "=== Monte Carlo χ² ===\n",
      "Observed χ² = 36.1458, asymptotic p-value = 1.0129e-02, dof = 19\n",
      "Min(expected) = 0.269\n"
     ]
    },
    {
     "name": "stderr",
     "output_type": "stream",
     "text": [
      "100%|██████████████████████████████████████████████████████████████████████████████| 5000/5000 [01:40<00:00, 49.58it/s]"
     ]
    },
    {
     "name": "stdout",
     "output_type": "stream",
     "text": [
      "Permutation (Monte-Carlo) empirical p-value ≈ 0.02300\n"
     ]
    },
    {
     "name": "stderr",
     "output_type": "stream",
     "text": [
      "\n"
     ]
    }
   ],
   "source": [
    "supplier_arr = grouped['supplier_grouped'].values\n",
    "labels = grouped['is_profitable'].astype(int).values\n",
    "\n",
    "# Проверка длины\n",
    "assert len(supplier_arr) == len(labels), \"Ошибка: supplier_arr и labels должны быть одной длины\"\n",
    "\n",
    "rng = np.random.default_rng(42)   # воспроизводимость\n",
    "n_perm = 5000                     # число перестановок (можно увеличить)\n",
    "\n",
    "# --- 1. Подготовка item-level массивов ---\n",
    "supplier_arr = grouped['supplier_grouped'].values\n",
    "labels = grouped['is_profitable'].astype(int).values\n",
    "\n",
    "# Проверка длины\n",
    "assert len(supplier_arr) == len(labels), \"Ошибка: supplier_arr и labels должны быть одной длины\"\n",
    "\n",
    "# --- 2. Наблюдаемая таблица и χ² ---\n",
    "obs_ct = pd.crosstab(supplier_arr, labels)   # столбцы [0,1]\n",
    "# убедимся, что оба столбца есть\n",
    "obs_ct = obs_ct.reindex(columns=[0,1], fill_value=0)\n",
    "\n",
    "chi2_obs, p_obs, dof, expected = chi2_contingency(obs_ct, correction=False)\n",
    "print(\"=== Monte Carlo χ² ===\")\n",
    "print(\"Observed χ² = {:.4f}, asymptotic p-value = {:.4e}, dof = {}\".format(chi2_obs, p_obs, dof))\n",
    "print(\"Min(expected) = {:.3f}\".format(expected.min()))\n",
    "\n",
    "# --- 3. Permutation (Monte Carlo) ---\n",
    "chi2_sims = np.empty(n_perm)\n",
    "for i in trange(n_perm):\n",
    "    perm_labels = rng.permutation(labels)\n",
    "    sim_ct = pd.crosstab(supplier_arr, perm_labels).reindex(columns=[0,1], fill_value=0)\n",
    "    # если вдруг какая-то колонка отсутствует, reindex вернёт 0\n",
    "    chi2_sims[i] = chi2_contingency(sim_ct.values, correction=False)[0]\n",
    "\n",
    "# эмпирическое p-value (с поправкой +1)\n",
    "p_emp = (np.sum(chi2_sims >= chi2_obs) + 1) / (n_perm + 1)\n",
    "print(\"Permutation (Monte-Carlo) empirical p-value ≈ {:.5f}\".format(p_emp))"
   ]
  },
  {
   "cell_type": "markdown",
   "id": "ad31b521-c511-489c-a41d-046cb908eb77",
   "metadata": {},
   "source": [
    "### Пост-хок парные перестановочные тесты с коррекцией на множественные сравнения (методы Холма и Бенджамини–Хохберга)"
   ]
  },
  {
   "cell_type": "code",
   "execution_count": 18,
   "id": "59f51fec-5706-4b23-852e-319c46e241ad",
   "metadata": {},
   "outputs": [
    {
     "data": {
      "text/html": [
       "<div>\n",
       "<style scoped>\n",
       "    .dataframe tbody tr th:only-of-type {\n",
       "        vertical-align: middle;\n",
       "    }\n",
       "\n",
       "    .dataframe tbody tr th {\n",
       "        vertical-align: top;\n",
       "    }\n",
       "\n",
       "    .dataframe thead th {\n",
       "        text-align: right;\n",
       "    }\n",
       "</style>\n",
       "<table border=\"1\" class=\"dataframe\">\n",
       "  <thead>\n",
       "    <tr style=\"text-align: right;\">\n",
       "      <th></th>\n",
       "      <th>supplier_1</th>\n",
       "      <th>supplier_2</th>\n",
       "      <th>share_1</th>\n",
       "      <th>share_2</th>\n",
       "      <th>diff</th>\n",
       "      <th>p_perm</th>\n",
       "      <th>p_adj_holm</th>\n",
       "      <th>p_adj_fdr</th>\n",
       "    </tr>\n",
       "  </thead>\n",
       "  <tbody>\n",
       "    <tr>\n",
       "      <th>179</th>\n",
       "      <td>ООО \"Континент\"</td>\n",
       "      <td>Фармкомплект ООО</td>\n",
       "      <td>0.947368</td>\n",
       "      <td>0.997490</td>\n",
       "      <td>-0.050121</td>\n",
       "      <td>0.000500</td>\n",
       "      <td>0.094953</td>\n",
       "      <td>0.094953</td>\n",
       "    </tr>\n",
       "    <tr>\n",
       "      <th>118</th>\n",
       "      <td>ЕАПТЕКА ООО</td>\n",
       "      <td>ООО \"Континент\"</td>\n",
       "      <td>1.000000</td>\n",
       "      <td>0.947368</td>\n",
       "      <td>0.052632</td>\n",
       "      <td>0.001000</td>\n",
       "      <td>0.188906</td>\n",
       "      <td>0.094953</td>\n",
       "    </tr>\n",
       "    <tr>\n",
       "      <th>177</th>\n",
       "      <td>ООО \"Континент\"</td>\n",
       "      <td>Пульс</td>\n",
       "      <td>0.947368</td>\n",
       "      <td>0.991822</td>\n",
       "      <td>-0.044454</td>\n",
       "      <td>0.003998</td>\n",
       "      <td>0.751624</td>\n",
       "      <td>0.176340</td>\n",
       "    </tr>\n",
       "    <tr>\n",
       "      <th>13</th>\n",
       "      <td>Авеста</td>\n",
       "      <td>ООО \"Континент\"</td>\n",
       "      <td>0.997585</td>\n",
       "      <td>0.947368</td>\n",
       "      <td>0.050216</td>\n",
       "      <td>0.003998</td>\n",
       "      <td>0.751624</td>\n",
       "      <td>0.176340</td>\n",
       "    </tr>\n",
       "    <tr>\n",
       "      <th>4</th>\n",
       "      <td>Авеста</td>\n",
       "      <td>ГРАНД КАПИТАЛ СМОЛЕНСК ООО ФК</td>\n",
       "      <td>0.997585</td>\n",
       "      <td>0.990140</td>\n",
       "      <td>0.007445</td>\n",
       "      <td>0.198901</td>\n",
       "      <td>1.000000</td>\n",
       "      <td>0.869343</td>\n",
       "    </tr>\n",
       "    <tr>\n",
       "      <th>5</th>\n",
       "      <td>Авеста</td>\n",
       "      <td>Другие</td>\n",
       "      <td>0.997585</td>\n",
       "      <td>1.000000</td>\n",
       "      <td>-0.002415</td>\n",
       "      <td>1.000000</td>\n",
       "      <td>1.000000</td>\n",
       "      <td>1.000000</td>\n",
       "    </tr>\n",
       "    <tr>\n",
       "      <th>2</th>\n",
       "      <td>Авеста</td>\n",
       "      <td>ВИТТА КОМПАНИ ООО</td>\n",
       "      <td>0.997585</td>\n",
       "      <td>0.985714</td>\n",
       "      <td>0.011870</td>\n",
       "      <td>0.115442</td>\n",
       "      <td>1.000000</td>\n",
       "      <td>0.642964</td>\n",
       "    </tr>\n",
       "    <tr>\n",
       "      <th>0</th>\n",
       "      <td>Авеста</td>\n",
       "      <td>Арал плюс</td>\n",
       "      <td>0.997585</td>\n",
       "      <td>0.996753</td>\n",
       "      <td>0.000831</td>\n",
       "      <td>1.000000</td>\n",
       "      <td>1.000000</td>\n",
       "      <td>1.000000</td>\n",
       "    </tr>\n",
       "    <tr>\n",
       "      <th>7</th>\n",
       "      <td>Авеста</td>\n",
       "      <td>Здравсервис</td>\n",
       "      <td>0.997585</td>\n",
       "      <td>0.992908</td>\n",
       "      <td>0.004677</td>\n",
       "      <td>0.416292</td>\n",
       "      <td>1.000000</td>\n",
       "      <td>1.000000</td>\n",
       "    </tr>\n",
       "    <tr>\n",
       "      <th>8</th>\n",
       "      <td>Авеста</td>\n",
       "      <td>Индивидуальный предприниматель Кочанов Андрей ...</td>\n",
       "      <td>0.997585</td>\n",
       "      <td>1.000000</td>\n",
       "      <td>-0.002415</td>\n",
       "      <td>1.000000</td>\n",
       "      <td>1.000000</td>\n",
       "      <td>1.000000</td>\n",
       "    </tr>\n",
       "    <tr>\n",
       "      <th>10</th>\n",
       "      <td>Авеста</td>\n",
       "      <td>Магнит Фарма ООО</td>\n",
       "      <td>0.997585</td>\n",
       "      <td>0.985251</td>\n",
       "      <td>0.012334</td>\n",
       "      <td>0.093453</td>\n",
       "      <td>1.000000</td>\n",
       "      <td>0.591871</td>\n",
       "    </tr>\n",
       "    <tr>\n",
       "      <th>9</th>\n",
       "      <td>Авеста</td>\n",
       "      <td>Катрен г.Химки</td>\n",
       "      <td>0.997585</td>\n",
       "      <td>0.991505</td>\n",
       "      <td>0.006080</td>\n",
       "      <td>0.245377</td>\n",
       "      <td>1.000000</td>\n",
       "      <td>0.885029</td>\n",
       "    </tr>\n",
       "    <tr>\n",
       "      <th>11</th>\n",
       "      <td>Авеста</td>\n",
       "      <td>Норман</td>\n",
       "      <td>0.997585</td>\n",
       "      <td>0.989247</td>\n",
       "      <td>0.008337</td>\n",
       "      <td>0.238381</td>\n",
       "      <td>1.000000</td>\n",
       "      <td>0.885029</td>\n",
       "    </tr>\n",
       "    <tr>\n",
       "      <th>12</th>\n",
       "      <td>Авеста</td>\n",
       "      <td>ООО \"Акцентмед\"</td>\n",
       "      <td>0.997585</td>\n",
       "      <td>0.994135</td>\n",
       "      <td>0.003450</td>\n",
       "      <td>0.595702</td>\n",
       "      <td>1.000000</td>\n",
       "      <td>1.000000</td>\n",
       "    </tr>\n",
       "    <tr>\n",
       "      <th>6</th>\n",
       "      <td>Авеста</td>\n",
       "      <td>ЕАПТЕКА ООО</td>\n",
       "      <td>0.997585</td>\n",
       "      <td>1.000000</td>\n",
       "      <td>-0.002415</td>\n",
       "      <td>1.000000</td>\n",
       "      <td>1.000000</td>\n",
       "      <td>1.000000</td>\n",
       "    </tr>\n",
       "    <tr>\n",
       "      <th>1</th>\n",
       "      <td>Авеста</td>\n",
       "      <td>БСС</td>\n",
       "      <td>0.997585</td>\n",
       "      <td>1.000000</td>\n",
       "      <td>-0.002415</td>\n",
       "      <td>1.000000</td>\n",
       "      <td>1.000000</td>\n",
       "      <td>1.000000</td>\n",
       "    </tr>\n",
       "    <tr>\n",
       "      <th>16</th>\n",
       "      <td>Авеста</td>\n",
       "      <td>Пульс</td>\n",
       "      <td>0.997585</td>\n",
       "      <td>0.991822</td>\n",
       "      <td>0.005762</td>\n",
       "      <td>0.262369</td>\n",
       "      <td>1.000000</td>\n",
       "      <td>0.923150</td>\n",
       "    </tr>\n",
       "    <tr>\n",
       "      <th>17</th>\n",
       "      <td>Авеста</td>\n",
       "      <td>СТЭЛМАС-Д ООО</td>\n",
       "      <td>0.997585</td>\n",
       "      <td>0.988479</td>\n",
       "      <td>0.009105</td>\n",
       "      <td>0.215892</td>\n",
       "      <td>1.000000</td>\n",
       "      <td>0.872376</td>\n",
       "    </tr>\n",
       "    <tr>\n",
       "      <th>18</th>\n",
       "      <td>Авеста</td>\n",
       "      <td>Фармкомплект ООО</td>\n",
       "      <td>0.997585</td>\n",
       "      <td>0.997490</td>\n",
       "      <td>0.000095</td>\n",
       "      <td>1.000000</td>\n",
       "      <td>1.000000</td>\n",
       "      <td>1.000000</td>\n",
       "    </tr>\n",
       "    <tr>\n",
       "      <th>19</th>\n",
       "      <td>Арал плюс</td>\n",
       "      <td>БСС</td>\n",
       "      <td>0.996753</td>\n",
       "      <td>1.000000</td>\n",
       "      <td>-0.003247</td>\n",
       "      <td>1.000000</td>\n",
       "      <td>1.000000</td>\n",
       "      <td>1.000000</td>\n",
       "    </tr>\n",
       "  </tbody>\n",
       "</table>\n",
       "</div>"
      ],
      "text/plain": [
       "          supplier_1                                         supplier_2  \\\n",
       "179  ООО \"Континент\"                                   Фармкомплект ООО   \n",
       "118      ЕАПТЕКА ООО                                    ООО \"Континент\"   \n",
       "177  ООО \"Континент\"                                              Пульс   \n",
       "13            Авеста                                    ООО \"Континент\"   \n",
       "4             Авеста                      ГРАНД КАПИТАЛ СМОЛЕНСК ООО ФК   \n",
       "5             Авеста                                             Другие   \n",
       "2             Авеста                                  ВИТТА КОМПАНИ ООО   \n",
       "0             Авеста                                          Арал плюс   \n",
       "7             Авеста                                        Здравсервис   \n",
       "8             Авеста  Индивидуальный предприниматель Кочанов Андрей ...   \n",
       "10            Авеста                                   Магнит Фарма ООО   \n",
       "9             Авеста                                     Катрен г.Химки   \n",
       "11            Авеста                                             Норман   \n",
       "12            Авеста                                    ООО \"Акцентмед\"   \n",
       "6             Авеста                                        ЕАПТЕКА ООО   \n",
       "1             Авеста                                                БСС   \n",
       "16            Авеста                                              Пульс   \n",
       "17            Авеста                                      СТЭЛМАС-Д ООО   \n",
       "18            Авеста                                   Фармкомплект ООО   \n",
       "19         Арал плюс                                                БСС   \n",
       "\n",
       "      share_1   share_2      diff    p_perm  p_adj_holm  p_adj_fdr  \n",
       "179  0.947368  0.997490 -0.050121  0.000500    0.094953   0.094953  \n",
       "118  1.000000  0.947368  0.052632  0.001000    0.188906   0.094953  \n",
       "177  0.947368  0.991822 -0.044454  0.003998    0.751624   0.176340  \n",
       "13   0.997585  0.947368  0.050216  0.003998    0.751624   0.176340  \n",
       "4    0.997585  0.990140  0.007445  0.198901    1.000000   0.869343  \n",
       "5    0.997585  1.000000 -0.002415  1.000000    1.000000   1.000000  \n",
       "2    0.997585  0.985714  0.011870  0.115442    1.000000   0.642964  \n",
       "0    0.997585  0.996753  0.000831  1.000000    1.000000   1.000000  \n",
       "7    0.997585  0.992908  0.004677  0.416292    1.000000   1.000000  \n",
       "8    0.997585  1.000000 -0.002415  1.000000    1.000000   1.000000  \n",
       "10   0.997585  0.985251  0.012334  0.093453    1.000000   0.591871  \n",
       "9    0.997585  0.991505  0.006080  0.245377    1.000000   0.885029  \n",
       "11   0.997585  0.989247  0.008337  0.238381    1.000000   0.885029  \n",
       "12   0.997585  0.994135  0.003450  0.595702    1.000000   1.000000  \n",
       "6    0.997585  1.000000 -0.002415  1.000000    1.000000   1.000000  \n",
       "1    0.997585  1.000000 -0.002415  1.000000    1.000000   1.000000  \n",
       "16   0.997585  0.991822  0.005762  0.262369    1.000000   0.923150  \n",
       "17   0.997585  0.988479  0.009105  0.215892    1.000000   0.872376  \n",
       "18   0.997585  0.997490  0.000095  1.000000    1.000000   1.000000  \n",
       "19   0.996753  1.000000 -0.003247  1.000000    1.000000   1.000000  "
      ]
     },
     "execution_count": 18,
     "metadata": {},
     "output_type": "execute_result"
    }
   ],
   "source": [
    "unique_suppliers = np.unique(supplier_arr)\n",
    "pair_results = []\n",
    "\n",
    "# ограничение: можно проанализировать только поставщиков с total_items >= min_n\n",
    "for a, b in combinations(unique_suppliers, 2):\n",
    "    mask = (supplier_arr == a) | (supplier_arr == b)\n",
    "    sub_sup = supplier_arr[mask]\n",
    "    sub_lab = labels[mask]\n",
    "    # наблюдаемые доли\n",
    "    p_a = sub_lab[sub_sup == a].mean()\n",
    "    p_b = sub_lab[sub_sup == b].mean()\n",
    "    obs_diff = p_a - p_b\n",
    "    \n",
    "    # permutations on combined labels\n",
    "    n_perm_pair = 2000\n",
    "    cnt = 0\n",
    "    for _ in range(n_perm_pair):\n",
    "        perm = rng.permutation(sub_lab)\n",
    "        diff = perm[sub_sup == a].mean() - perm[sub_sup == b].mean()\n",
    "        if abs(diff) >= abs(obs_diff):\n",
    "            cnt += 1\n",
    "    p_pair = (cnt + 1) / (n_perm_pair + 1)\n",
    "    pair_results.append((a, b, p_a, p_b, obs_diff, p_pair))\n",
    "\n",
    "posthoc_df = pd.DataFrame(pair_results, columns=['supplier_1','supplier_2','share_1','share_2','diff','p_perm'])\n",
    "# поправки\n",
    "posthoc_df['p_adj_holm'] = multipletests(posthoc_df['p_perm'], method='holm')[1]\n",
    "posthoc_df['p_adj_fdr']  = multipletests(posthoc_df['p_perm'], method='fdr_bh')[1]\n",
    "posthoc_df = posthoc_df.sort_values('p_adj_holm')\n",
    "posthoc_df.head(20)"
   ]
  },
  {
   "cell_type": "markdown",
   "id": "eb6fe00b-bb8f-428b-b695-0aa184b3537b",
   "metadata": {},
   "source": [
    "**Результаты:**\n",
    "- Общая проверка (Monte-Carlo χ²) показала, что связь между поставщиком и прибыльностью товаров не случайна (p ≈ 0.036).\n",
    "- Пост-хок анализ уточнил, что эффект обусловлен в основном низкой результативностью “ООО Континент”.\n",
    "- У остальных поставщиков доли прибыльных товаров практически идентичны."
   ]
  },
  {
   "cell_type": "markdown",
   "id": "7b4988bf-9ca6-4525-90f5-016c8a6158ae",
   "metadata": {},
   "source": [
    "**Значение для бизнеса**   \n",
    "(основываемся на p_perm < 0.05, но учитываем, что после поправок Holm/FDR значимых пар не осталось — поэтому говорим о тенденциях, а не строгих различиях)\n",
    "1. Поставщик ООО \"Континент\" стабильно выделяется как имеющий более низкую долю прибыльных товаров.\n",
    "- Он проигрывает по прибыльности (разница ≈ –4 … –5 п.п.) поставщикам:\n",
    "    - Фармкомплект ООО (p_perm = 0.0005)\n",
    "    - ЕАПТЕКА ООО (p_perm = 0.0010)\n",
    "    - Пульс, Авеста, ГК Надежда Фарм, Катрен г. Химки, Акцентмед, Протек, Норман, Магнит Фарма и др. — во всех случаях наблюдается отрицательная разница и p < 0.05 до коррекции.\n",
    "После поправки различия не остаются статистически значимыми, но тренд систематический и устойчивый.\n",
    "\n",
    "2. Остальные поставщики демонстрируют очень высокую прибыльность (от 0.985 до 1.0), и между ними различий практически нет.\n",
    "Это говорит о том, что рынок в целом однороден, а «Континент» — скорее исключение.\n",
    "\n",
    "3. Корректировка p-значений (Holm, FDR) сильно подняла значения, что указывает на множество сравнений и небольшие выборки, повышающие риск случайных различий.\n",
    "Следовательно, все выводы требуют осторожной интерпретации и дополнительной проверки на больших данных."
   ]
  },
  {
   "cell_type": "markdown",
   "id": "8ba57ca4-6a45-481c-8b9c-020add26ab85",
   "metadata": {},
   "source": [
    "**Рекомендации**\n",
    "1. Проверить бизнес-процессы и ассортимент поставщика “ООО Континент”:\n",
    "    - проанализировать, какие конкретно товары дают убыток;\n",
    "    - оценить условия закупок, наценки, скидки, оборачиваемость;\n",
    "    - рассмотреть возможность пересмотра условий сотрудничества или частичной замены поставщика.\n",
    "\n",
    "2. Сфокусировать мониторинг на динамике прибыльности “Континента” в следующих периодах — если тренд сохранится, это может быть системная проблема.\n",
    "\n",
    "3. Для остальных поставщиков — сохранить текущую политику взаимодействия, так как различий по прибыльности не выявлено.\n",
    "\n",
    "4. Рассмотреть укрупнение категорий или использование байесовских / робастных методов, если анализ будет повторяться на малых подвыборках (из-за чувствительности перестановочных тестов к редким ячейкам)."
   ]
  }
 ],
 "metadata": {
  "kernelspec": {
   "display_name": "Python 3 (ipykernel)",
   "language": "python",
   "name": "python3"
  },
  "language_info": {
   "codemirror_mode": {
    "name": "ipython",
    "version": 3
   },
   "file_extension": ".py",
   "mimetype": "text/x-python",
   "name": "python",
   "nbconvert_exporter": "python",
   "pygments_lexer": "ipython3",
   "version": "3.13.5"
  }
 },
 "nbformat": 4,
 "nbformat_minor": 5
}
